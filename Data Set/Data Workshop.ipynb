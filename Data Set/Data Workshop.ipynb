{
 "cells": [
  {
   "cell_type": "markdown",
   "metadata": {},
   "source": [
    "# Data 101\n",
    "\n",
    "This is the notebook for the Data 101 week in Venture Team"
   ]
  },
  {
   "cell_type": "markdown",
   "metadata": {},
   "source": [
    "#### Types\n",
    "\n",
    "* integer - whole number \n",
    "* string - anything surrounded by quotes\n",
    "* Boolean - True or False \n",
    "* Float - Decimal Number\n",
    "\n"
   ]
  },
  {
   "cell_type": "markdown",
   "metadata": {},
   "source": [
    "#### Variables"
   ]
  },
  {
   "cell_type": "code",
   "execution_count": 3,
   "metadata": {},
   "outputs": [
    {
     "name": "stdout",
     "output_type": "stream",
     "text": [
      "7\n",
      "This is a string\n"
     ]
    }
   ],
   "source": [
    "x = 7\n",
    "print(x)\n",
    "x = \"This is a string\"\n",
    "print(x)"
   ]
  },
  {
   "cell_type": "markdown",
   "metadata": {},
   "source": [
    "#### Comparisons\n"
   ]
  },
  {
   "cell_type": "code",
   "execution_count": 5,
   "metadata": {},
   "outputs": [
    {
     "name": "stdout",
     "output_type": "stream",
     "text": [
      "True\n",
      "False\n",
      "False\n"
     ]
    }
   ],
   "source": [
    "x = 7\n",
    "print(x == 7)\n",
    "print(x > 7)\n",
    "print(x != 7)"
   ]
  },
  {
   "cell_type": "code",
   "execution_count": 6,
   "metadata": {},
   "outputs": [
    {
     "data": {
      "text/plain": [
       "True"
      ]
     },
     "execution_count": 6,
     "metadata": {},
     "output_type": "execute_result"
    }
   ],
   "source": [
    "y = \"hello\"\n",
    "z = \"hello\"\n",
    "\n",
    "y==z"
   ]
  },
  {
   "cell_type": "markdown",
   "metadata": {},
   "source": [
    "#### Advanced Types\n",
    "\n",
    "* List - a list of elements\n",
    "* Dictionary - sets of key value pairs\n",
    "* tuple - two value pair\n"
   ]
  },
  {
   "cell_type": "code",
   "execution_count": 9,
   "metadata": {},
   "outputs": [
    {
     "name": "stdout",
     "output_type": "stream",
     "text": [
      "[5, 'hello', True, [1, 2, 3]]\n"
     ]
    }
   ],
   "source": [
    "my_list = [5, \"hello\", True, [1,2,3,]]\n",
    "print(my_list)\n"
   ]
  },
  {
   "cell_type": "code",
   "execution_count": 10,
   "metadata": {},
   "outputs": [
    {
     "name": "stdout",
     "output_type": "stream",
     "text": [
      "2\n"
     ]
    }
   ],
   "source": [
    "my_tuple = (2, \"string\")\n",
    "print(my_tuple[0])"
   ]
  },
  {
   "cell_type": "code",
   "execution_count": 12,
   "metadata": {},
   "outputs": [
    {
     "name": "stdout",
     "output_type": "stream",
     "text": [
      "{'this': 2, 'a': 4}\n",
      "4\n"
     ]
    }
   ],
   "source": [
    "my_dict = {\"this\" : 2, \"a\" : 4}\n",
    "print(my_dict)\n",
    "print(my_dict[\"a\"])"
   ]
  },
  {
   "cell_type": "markdown",
   "metadata": {},
   "source": [
    "#### Casting\n"
   ]
  },
  {
   "cell_type": "code",
   "execution_count": 14,
   "metadata": {},
   "outputs": [
    {
     "name": "stdout",
     "output_type": "stream",
     "text": [
      "['h', 'e', 'l', 'l', 'o', ' ', 'w', 'o', 'r', 'l', 'd']\n"
     ]
    }
   ],
   "source": [
    "my_str = \"hello world\"\n",
    "\n",
    "print(list(my_str))"
   ]
  },
  {
   "cell_type": "markdown",
   "metadata": {},
   "source": [
    "#### If/Else Statement and Loops"
   ]
  },
  {
   "cell_type": "code",
   "execution_count": 17,
   "metadata": {},
   "outputs": [
    {
     "name": "stdout",
     "output_type": "stream",
     "text": [
      "boo\n"
     ]
    }
   ],
   "source": [
    "my_num = 1\n",
    "if my_num == 10:\n",
    "    print(\"woohoo\")\n",
    "else:\n",
    "    print(\"boo\")"
   ]
  },
  {
   "cell_type": "code",
   "execution_count": 21,
   "metadata": {},
   "outputs": [
    {
     "name": "stdout",
     "output_type": "stream",
     "text": [
      "11\n",
      "10\n",
      "9\n",
      "8\n",
      "7\n",
      "6\n",
      "5\n",
      "4\n",
      "3\n",
      "2\n"
     ]
    }
   ],
   "source": [
    "for i in range(11,1,-1):\n",
    "    print(i)"
   ]
  },
  {
   "cell_type": "code",
   "execution_count": 27,
   "metadata": {},
   "outputs": [
    {
     "name": "stdout",
     "output_type": "stream",
     "text": [
      "1\n",
      "2\n",
      "3\n",
      "4\n",
      "5\n",
      "6\n",
      "7\n",
      "8\n",
      "9\n"
     ]
    },
    {
     "ename": "TypeError",
     "evalue": "object of type 'int' has no len()",
     "output_type": "error",
     "traceback": [
      "\u001b[0;31m---------------------------------------------------------------------------\u001b[0m",
      "\u001b[0;31mTypeError\u001b[0m                                 Traceback (most recent call last)",
      "\u001b[0;32m<ipython-input-27-ad06ca31f1aa>\u001b[0m in \u001b[0;36m<module>\u001b[0;34m\u001b[0m\n\u001b[1;32m      6\u001b[0m     \u001b[0mi\u001b[0m\u001b[0;34m+=\u001b[0m\u001b[0;36m1\u001b[0m\u001b[0;34m\u001b[0m\u001b[0;34m\u001b[0m\u001b[0m\n\u001b[1;32m      7\u001b[0m \u001b[0;34m\u001b[0m\u001b[0m\n\u001b[0;32m----> 8\u001b[0;31m \u001b[0mtype\u001b[0m\u001b[0;34m(\u001b[0m\u001b[0mlen\u001b[0m\u001b[0;34m(\u001b[0m\u001b[0;36m1\u001b[0m\u001b[0;34m)\u001b[0m\u001b[0;34m)\u001b[0m\u001b[0;34m\u001b[0m\u001b[0;34m\u001b[0m\u001b[0m\n\u001b[0m",
      "\u001b[0;31mTypeError\u001b[0m: object of type 'int' has no len()"
     ]
    }
   ],
   "source": [
    "i = 1\n",
    "\n",
    "while i < 10:\n",
    "    \n",
    "    print(i)\n",
    "    i+=1\n",
    "    \n"
   ]
  },
  {
   "cell_type": "markdown",
   "metadata": {},
   "source": [
    "#### Exercise\n",
    "\n",
    "Create a program that takes a user's input and checks whether it's a valid passworld ( minimum 6 character, max 16 character, one special character, one capital letter, and one number)"
   ]
  },
  {
   "cell_type": "code",
   "execution_count": 37,
   "metadata": {},
   "outputs": [
    {
     "name": "stdout",
     "output_type": "stream",
     "text": [
      "Enter Passworddennislo11!\n"
     ]
    },
    {
     "ename": "TypeError",
     "evalue": "list indices must be integers or slices, not str",
     "output_type": "error",
     "traceback": [
      "\u001b[0;31m---------------------------------------------------------------------------\u001b[0m",
      "\u001b[0;31mTypeError\u001b[0m                                 Traceback (most recent call last)",
      "\u001b[0;32m<ipython-input-37-ae1d5d55349b>\u001b[0m in \u001b[0;36m<module>\u001b[0;34m\u001b[0m\n\u001b[1;32m     10\u001b[0m \u001b[0;34m\u001b[0m\u001b[0m\n\u001b[1;32m     11\u001b[0m \u001b[0;32mfor\u001b[0m \u001b[0mi\u001b[0m \u001b[0;32min\u001b[0m \u001b[0minput_list\u001b[0m\u001b[0;34m:\u001b[0m\u001b[0;34m\u001b[0m\u001b[0;34m\u001b[0m\u001b[0m\n\u001b[0;32m---> 12\u001b[0;31m     \u001b[0;32mif\u001b[0m \u001b[0mord\u001b[0m\u001b[0;34m(\u001b[0m\u001b[0minput_list\u001b[0m\u001b[0;34m[\u001b[0m\u001b[0mi\u001b[0m\u001b[0;34m]\u001b[0m\u001b[0;34m)\u001b[0m \u001b[0;34m>=\u001b[0m \u001b[0;36m65\u001b[0m \u001b[0;32mand\u001b[0m \u001b[0mord\u001b[0m\u001b[0;34m(\u001b[0m\u001b[0minput_list\u001b[0m\u001b[0;34m[\u001b[0m\u001b[0mi\u001b[0m\u001b[0;34m]\u001b[0m\u001b[0;34m)\u001b[0m \u001b[0;34m<=\u001b[0m \u001b[0;36m90\u001b[0m\u001b[0;34m:\u001b[0m\u001b[0;34m\u001b[0m\u001b[0;34m\u001b[0m\u001b[0m\n\u001b[0m\u001b[1;32m     13\u001b[0m         \u001b[0mcapital\u001b[0m \u001b[0;34m=\u001b[0m \u001b[0;32mTrue\u001b[0m\u001b[0;34m\u001b[0m\u001b[0;34m\u001b[0m\u001b[0m\n\u001b[1;32m     14\u001b[0m     \u001b[0;32mif\u001b[0m \u001b[0mord\u001b[0m\u001b[0;34m(\u001b[0m\u001b[0minput_list\u001b[0m\u001b[0;34m[\u001b[0m\u001b[0mi\u001b[0m\u001b[0;34m]\u001b[0m\u001b[0;34m)\u001b[0m \u001b[0;34m>=\u001b[0m \u001b[0;36m33\u001b[0m \u001b[0;32mand\u001b[0m \u001b[0mord\u001b[0m\u001b[0;34m(\u001b[0m\u001b[0minput_list\u001b[0m\u001b[0;34m[\u001b[0m\u001b[0mi\u001b[0m\u001b[0;34m]\u001b[0m\u001b[0;34m)\u001b[0m \u001b[0;34m<=\u001b[0m \u001b[0;36m47\u001b[0m\u001b[0;34m:\u001b[0m\u001b[0;34m\u001b[0m\u001b[0;34m\u001b[0m\u001b[0m\n",
      "\u001b[0;31mTypeError\u001b[0m: list indices must be integers or slices, not str"
     ]
    }
   ],
   "source": [
    "user_input =input(\"Enter Password\")\n",
    "\n",
    "if len(user_input) < 6 or len(user_input) > 16:\n",
    "    print(\"try again\")\n",
    "capital = False\n",
    "special = False\n",
    "num = False\n",
    "\n",
    "input_list = list(user_input)\n",
    "\n",
    "for i in input_list: \n",
    "    if ord(input_list[i]) >= 65 and ord(input_list[i]) <= 90:\n",
    "        capital = True\n",
    "    if ord(input_list[i]) >= 33 and ord(input_list[i]) <= 47:\n",
    "        special = True\n",
    "    if input_list[i].isdigit() == True:\n",
    "        num = True\n",
    "\n",
    "if capital == True and special == True and num == True:\n",
    "    print(\"Good password\")\n",
    "\n",
    "else:\n",
    "    print(\"not ok\")\n",
    "        "
   ]
  },
  {
   "cell_type": "markdown",
   "metadata": {},
   "source": [
    "#### Functions"
   ]
  },
  {
   "cell_type": "code",
   "execution_count": 38,
   "metadata": {},
   "outputs": [
    {
     "data": {
      "text/plain": [
       "12"
      ]
     },
     "execution_count": 38,
     "metadata": {},
     "output_type": "execute_result"
    }
   ],
   "source": [
    "def add(a,b):\n",
    "    c = a+ b\n",
    "    return c\n",
    "add(5,7)"
   ]
  },
  {
   "cell_type": "code",
   "execution_count": 39,
   "metadata": {},
   "outputs": [],
   "source": [
    "import pandas as pd\n"
   ]
  },
  {
   "cell_type": "code",
   "execution_count": 41,
   "metadata": {},
   "outputs": [],
   "source": [
    "dataset = pd.read_csv(\"indiegogo_dataset.csv\", encoding = \"ISO-8859-1\")"
   ]
  },
  {
   "cell_type": "code",
   "execution_count": 45,
   "metadata": {},
   "outputs": [
    {
     "data": {
      "text/html": [
       "<div>\n",
       "<style scoped>\n",
       "    .dataframe tbody tr th:only-of-type {\n",
       "        vertical-align: middle;\n",
       "    }\n",
       "\n",
       "    .dataframe tbody tr th {\n",
       "        vertical-align: top;\n",
       "    }\n",
       "\n",
       "    .dataframe thead th {\n",
       "        text-align: right;\n",
       "    }\n",
       "</style>\n",
       "<table border=\"1\" class=\"dataframe\">\n",
       "  <thead>\n",
       "    <tr style=\"text-align: right;\">\n",
       "      <th></th>\n",
       "      <th>id</th>\n",
       "      <th>title</th>\n",
       "      <th>nearest_five_percent</th>\n",
       "      <th>tagline</th>\n",
       "      <th>cached_collected_pledges_count</th>\n",
       "      <th>balance</th>\n",
       "      <th>currency_code</th>\n",
       "      <th>category_name</th>\n",
       "      <th>category_slug</th>\n",
       "      <th>collected_percentage</th>\n",
       "    </tr>\n",
       "  </thead>\n",
       "  <tbody>\n",
       "    <tr>\n",
       "      <th>0</th>\n",
       "      <td>405885</td>\n",
       "      <td>Help Micky Recover</td>\n",
       "      <td>100</td>\n",
       "      <td>Micky was hit by a car and now has a broken jaw.</td>\n",
       "      <td>28</td>\n",
       "      <td>$650</td>\n",
       "      <td>USD</td>\n",
       "      <td>Animals</td>\n",
       "      <td>animals</td>\n",
       "      <td>100%</td>\n",
       "    </tr>\n",
       "    <tr>\n",
       "      <th>1</th>\n",
       "      <td>542014</td>\n",
       "      <td>BETTIS BOSTON TERRIER IN NEED OF A NUEROLOGIST</td>\n",
       "      <td>100</td>\n",
       "      <td>BETTIS IS IN NEED OF A NEUROLOGIST.  HE IS MY ...</td>\n",
       "      <td>20</td>\n",
       "      <td>$650</td>\n",
       "      <td>USD</td>\n",
       "      <td>Animals</td>\n",
       "      <td>animals</td>\n",
       "      <td>130%</td>\n",
       "    </tr>\n",
       "    <tr>\n",
       "      <th>2</th>\n",
       "      <td>422637</td>\n",
       "      <td>Help Frankie</td>\n",
       "      <td>80</td>\n",
       "      <td>My sweet boy had to have emergency surgery to ...</td>\n",
       "      <td>26</td>\n",
       "      <td>$643</td>\n",
       "      <td>USD</td>\n",
       "      <td>Animals</td>\n",
       "      <td>animals</td>\n",
       "      <td>80%</td>\n",
       "    </tr>\n",
       "    <tr>\n",
       "      <th>3</th>\n",
       "      <td>358194</td>\n",
       "      <td>Help Our Kitty, Jester</td>\n",
       "      <td>100</td>\n",
       "      <td>Jester, our \"California kitty\", has been diagn...</td>\n",
       "      <td>35</td>\n",
       "      <td>$640</td>\n",
       "      <td>USD</td>\n",
       "      <td>Animals</td>\n",
       "      <td>animals</td>\n",
       "      <td>128%</td>\n",
       "    </tr>\n",
       "    <tr>\n",
       "      <th>4</th>\n",
       "      <td>327879</td>\n",
       "      <td>Help Zhu Zhu Get Entropion Surgery</td>\n",
       "      <td>100</td>\n",
       "      <td>Zhu Zhu is a one year old pit bull that suffer...</td>\n",
       "      <td>20</td>\n",
       "      <td>$629</td>\n",
       "      <td>USD</td>\n",
       "      <td>Animals</td>\n",
       "      <td>animals</td>\n",
       "      <td>105%</td>\n",
       "    </tr>\n",
       "    <tr>\n",
       "      <th>5</th>\n",
       "      <td>1413765</td>\n",
       "      <td>HELP HEAL GOTCHA THE BALI STREET DOG</td>\n",
       "      <td>85</td>\n",
       "      <td>Alone on the street, bald, crusty and infected...</td>\n",
       "      <td>20</td>\n",
       "      <td>$623</td>\n",
       "      <td>USD</td>\n",
       "      <td>Animals</td>\n",
       "      <td>animals</td>\n",
       "      <td>89%</td>\n",
       "    </tr>\n",
       "    <tr>\n",
       "      <th>6</th>\n",
       "      <td>497842</td>\n",
       "      <td>Bring Bear Home</td>\n",
       "      <td>100</td>\n",
       "      <td>Help my mom and Henry locate Bear.</td>\n",
       "      <td>32</td>\n",
       "      <td>$622</td>\n",
       "      <td>USD</td>\n",
       "      <td>Animals</td>\n",
       "      <td>animals</td>\n",
       "      <td>124%</td>\n",
       "    </tr>\n",
       "    <tr>\n",
       "      <th>7</th>\n",
       "      <td>123505</td>\n",
       "      <td>I demand 5 millions... Or I'm gonna devour thi...</td>\n",
       "      <td>100</td>\n",
       "      <td>Ha-ha, do not worry, I do not intend to eat th...</td>\n",
       "      <td>25</td>\n",
       "      <td>$616</td>\n",
       "      <td>USD</td>\n",
       "      <td>Animals</td>\n",
       "      <td>animals</td>\n",
       "      <td>123%</td>\n",
       "    </tr>\n",
       "    <tr>\n",
       "      <th>8</th>\n",
       "      <td>326289</td>\n",
       "      <td>All Pups Deserve Love</td>\n",
       "      <td>100</td>\n",
       "      <td>The street dogs in India are in need of your h...</td>\n",
       "      <td>21</td>\n",
       "      <td>$610</td>\n",
       "      <td>USD</td>\n",
       "      <td>Animals</td>\n",
       "      <td>animals</td>\n",
       "      <td>122%</td>\n",
       "    </tr>\n",
       "    <tr>\n",
       "      <th>9</th>\n",
       "      <td>1293383</td>\n",
       "      <td>Central Coast Earthlings Event</td>\n",
       "      <td>100</td>\n",
       "      <td>Giving a voice to the animals that don't have one</td>\n",
       "      <td>27</td>\n",
       "      <td>$605</td>\n",
       "      <td>USD</td>\n",
       "      <td>Animals</td>\n",
       "      <td>animals</td>\n",
       "      <td>121%</td>\n",
       "    </tr>\n",
       "  </tbody>\n",
       "</table>\n",
       "</div>"
      ],
      "text/plain": [
       "        id                                              title  \\\n",
       "0   405885                                 Help Micky Recover   \n",
       "1   542014     BETTIS BOSTON TERRIER IN NEED OF A NUEROLOGIST   \n",
       "2   422637                                       Help Frankie   \n",
       "3   358194                             Help Our Kitty, Jester   \n",
       "4   327879                 Help Zhu Zhu Get Entropion Surgery   \n",
       "5  1413765              HELP HEAL GOTCHA THE BALI STREET DOG    \n",
       "6   497842                                    Bring Bear Home   \n",
       "7   123505  I demand 5 millions... Or I'm gonna devour thi...   \n",
       "8   326289                              All Pups Deserve Love   \n",
       "9  1293383                     Central Coast Earthlings Event   \n",
       "\n",
       "   nearest_five_percent                                            tagline  \\\n",
       "0                   100   Micky was hit by a car and now has a broken jaw.   \n",
       "1                   100  BETTIS IS IN NEED OF A NEUROLOGIST.  HE IS MY ...   \n",
       "2                    80  My sweet boy had to have emergency surgery to ...   \n",
       "3                   100  Jester, our \"California kitty\", has been diagn...   \n",
       "4                   100  Zhu Zhu is a one year old pit bull that suffer...   \n",
       "5                    85  Alone on the street, bald, crusty and infected...   \n",
       "6                   100                 Help my mom and Henry locate Bear.   \n",
       "7                   100  Ha-ha, do not worry, I do not intend to eat th...   \n",
       "8                   100  The street dogs in India are in need of your h...   \n",
       "9                   100  Giving a voice to the animals that don't have one   \n",
       "\n",
       "   cached_collected_pledges_count balance currency_code category_name  \\\n",
       "0                              28   $650            USD       Animals   \n",
       "1                              20   $650            USD       Animals   \n",
       "2                              26   $643            USD       Animals   \n",
       "3                              35   $640            USD       Animals   \n",
       "4                              20   $629            USD       Animals   \n",
       "5                              20   $623            USD       Animals   \n",
       "6                              32   $622            USD       Animals   \n",
       "7                              25   $616            USD       Animals   \n",
       "8                              21   $610            USD       Animals   \n",
       "9                              27   $605            USD       Animals   \n",
       "\n",
       "  category_slug collected_percentage  \n",
       "0       animals                 100%  \n",
       "1       animals                 130%  \n",
       "2       animals                  80%  \n",
       "3       animals                 128%  \n",
       "4       animals                 105%  \n",
       "5       animals                  89%  \n",
       "6       animals                 124%  \n",
       "7       animals                 123%  \n",
       "8       animals                 122%  \n",
       "9       animals                 121%  "
      ]
     },
     "execution_count": 45,
     "metadata": {},
     "output_type": "execute_result"
    }
   ],
   "source": [
    "dataset.head(10)"
   ]
  },
  {
   "cell_type": "code",
   "execution_count": 44,
   "metadata": {},
   "outputs": [
    {
     "name": "stdout",
     "output_type": "stream",
     "text": [
      "id                                 int64\n",
      "title                             object\n",
      "nearest_five_percent               int64\n",
      "tagline                           object\n",
      "cached_collected_pledges_count     int64\n",
      "balance                           object\n",
      "currency_code                     object\n",
      "category_name                     object\n",
      "category_slug                     object\n",
      "collected_percentage              object\n",
      "dtype: object\n"
     ]
    }
   ],
   "source": [
    "print(dataset.dtypes)"
   ]
  },
  {
   "cell_type": "code",
   "execution_count": 46,
   "metadata": {},
   "outputs": [
    {
     "name": "stdout",
     "output_type": "stream",
     "text": [
      "(32764, 10)\n"
     ]
    }
   ],
   "source": [
    "print(dataset.shape)"
   ]
  },
  {
   "cell_type": "code",
   "execution_count": 51,
   "metadata": {},
   "outputs": [
    {
     "name": "stdout",
     "output_type": "stream",
     "text": [
      "81.62538151629838\n",
      "2462\n"
     ]
    }
   ],
   "source": [
    "print(dataset[\"cached_collected_pledges_count\"].mean())\n",
    "print(dataset[\"cached_collected_pledges_count\"][:80].sum())"
   ]
  },
  {
   "cell_type": "code",
   "execution_count": 56,
   "metadata": {},
   "outputs": [
    {
     "data": {
      "text/html": [
       "<div>\n",
       "<style scoped>\n",
       "    .dataframe tbody tr th:only-of-type {\n",
       "        vertical-align: middle;\n",
       "    }\n",
       "\n",
       "    .dataframe tbody tr th {\n",
       "        vertical-align: top;\n",
       "    }\n",
       "\n",
       "    .dataframe thead th {\n",
       "        text-align: right;\n",
       "    }\n",
       "</style>\n",
       "<table border=\"1\" class=\"dataframe\">\n",
       "  <thead>\n",
       "    <tr style=\"text-align: right;\">\n",
       "      <th></th>\n",
       "      <th>id</th>\n",
       "      <th>title</th>\n",
       "      <th>nearest_five_percent</th>\n",
       "      <th>tagline</th>\n",
       "      <th>cached_collected_pledges_count</th>\n",
       "      <th>balance</th>\n",
       "      <th>currency_code</th>\n",
       "      <th>category_name</th>\n",
       "      <th>category_slug</th>\n",
       "      <th>collected_percentage</th>\n",
       "    </tr>\n",
       "  </thead>\n",
       "  <tbody>\n",
       "    <tr>\n",
       "      <th>14776</th>\n",
       "      <td>814501</td>\n",
       "      <td>Lazer Team by Rooster Teeth</td>\n",
       "      <td>100</td>\n",
       "      <td>Rooster Teeth is making its first feature leng...</td>\n",
       "      <td>37493</td>\n",
       "      <td>$2,480,334</td>\n",
       "      <td>USD</td>\n",
       "      <td>Film</td>\n",
       "      <td>film</td>\n",
       "      <td>382%</td>\n",
       "    </tr>\n",
       "    <tr>\n",
       "      <th>16360</th>\n",
       "      <td>124322</td>\n",
       "      <td>Lets Give Karen -The bus monitor- H Klein A Va...</td>\n",
       "      <td>100</td>\n",
       "      <td>Karen Huff (The bus monitor) deserves a vacation!</td>\n",
       "      <td>32251</td>\n",
       "      <td>$703,168</td>\n",
       "      <td>USD</td>\n",
       "      <td>Community</td>\n",
       "      <td>community</td>\n",
       "      <td>14063%</td>\n",
       "    </tr>\n",
       "    <tr>\n",
       "      <th>14777</th>\n",
       "      <td>1676513</td>\n",
       "      <td>Code 8 - a film from Robbie &amp; Stephen Amell</td>\n",
       "      <td>100</td>\n",
       "      <td>Help Robbie &amp; Stephen Amell make their first f...</td>\n",
       "      <td>20203</td>\n",
       "      <td>$1,720,129</td>\n",
       "      <td>USD</td>\n",
       "      <td>Film</td>\n",
       "      <td>film</td>\n",
       "      <td>860%</td>\n",
       "    </tr>\n",
       "    <tr>\n",
       "      <th>613</th>\n",
       "      <td>119398</td>\n",
       "      <td>BearLove Good.  Cancer Bad.</td>\n",
       "      <td>100</td>\n",
       "      <td>I'm trying to raise $20k to donate half to the...</td>\n",
       "      <td>14407</td>\n",
       "      <td>$220,024</td>\n",
       "      <td>USD</td>\n",
       "      <td>Animals</td>\n",
       "      <td>animals</td>\n",
       "      <td>1100%</td>\n",
       "    </tr>\n",
       "    <tr>\n",
       "      <th>16358</th>\n",
       "      <td>838279</td>\n",
       "      <td>STONE GROUNDBREAKING COLLABORATIONS</td>\n",
       "      <td>100</td>\n",
       "      <td>Incredible rare beers from one of the worldÛª...</td>\n",
       "      <td>13977</td>\n",
       "      <td>$2,532,180</td>\n",
       "      <td>USD</td>\n",
       "      <td>Community</td>\n",
       "      <td>community</td>\n",
       "      <td>253%</td>\n",
       "    </tr>\n",
       "  </tbody>\n",
       "</table>\n",
       "</div>"
      ],
      "text/plain": [
       "            id                                              title  \\\n",
       "14776   814501                        Lazer Team by Rooster Teeth   \n",
       "16360   124322  Lets Give Karen -The bus monitor- H Klein A Va...   \n",
       "14777  1676513        Code 8 - a film from Robbie & Stephen Amell   \n",
       "613     119398                        BearLove Good.  Cancer Bad.   \n",
       "16358   838279                STONE GROUNDBREAKING COLLABORATIONS   \n",
       "\n",
       "       nearest_five_percent  \\\n",
       "14776                   100   \n",
       "16360                   100   \n",
       "14777                   100   \n",
       "613                     100   \n",
       "16358                   100   \n",
       "\n",
       "                                                 tagline  \\\n",
       "14776  Rooster Teeth is making its first feature leng...   \n",
       "16360  Karen Huff (The bus monitor) deserves a vacation!   \n",
       "14777  Help Robbie & Stephen Amell make their first f...   \n",
       "613    I'm trying to raise $20k to donate half to the...   \n",
       "16358  Incredible rare beers from one of the worldÛª...   \n",
       "\n",
       "       cached_collected_pledges_count      balance currency_code  \\\n",
       "14776                           37493  $2,480,334            USD   \n",
       "16360                           32251    $703,168            USD   \n",
       "14777                           20203  $1,720,129            USD   \n",
       "613                             14407    $220,024            USD   \n",
       "16358                           13977  $2,532,180            USD   \n",
       "\n",
       "      category_name category_slug collected_percentage  \n",
       "14776          Film          film                 382%  \n",
       "16360     Community     community               14063%  \n",
       "14777          Film          film                 860%  \n",
       "613         Animals       animals                1100%  \n",
       "16358     Community     community                 253%  "
      ]
     },
     "execution_count": 56,
     "metadata": {},
     "output_type": "execute_result"
    }
   ],
   "source": [
    "dataset_sorted = dataset.sort_values([\"cached_collected_pledges_count\"], ascending = False)\n",
    "dataset_sorted.head()"
   ]
  },
  {
   "cell_type": "code",
   "execution_count": 58,
   "metadata": {},
   "outputs": [
    {
     "data": {
      "text/html": [
       "<div>\n",
       "<style scoped>\n",
       "    .dataframe tbody tr th:only-of-type {\n",
       "        vertical-align: middle;\n",
       "    }\n",
       "\n",
       "    .dataframe tbody tr th {\n",
       "        vertical-align: top;\n",
       "    }\n",
       "\n",
       "    .dataframe thead th {\n",
       "        text-align: right;\n",
       "    }\n",
       "</style>\n",
       "<table border=\"1\" class=\"dataframe\">\n",
       "  <thead>\n",
       "    <tr style=\"text-align: right;\">\n",
       "      <th></th>\n",
       "      <th>id</th>\n",
       "      <th>title</th>\n",
       "      <th>nearest_five_percent</th>\n",
       "      <th>tagline</th>\n",
       "      <th>cached_collected_pledges_count</th>\n",
       "      <th>balance</th>\n",
       "      <th>currency_code</th>\n",
       "      <th>category_name</th>\n",
       "      <th>category_slug</th>\n",
       "      <th>collected_percentage</th>\n",
       "    </tr>\n",
       "  </thead>\n",
       "  <tbody>\n",
       "    <tr>\n",
       "      <th>0</th>\n",
       "      <td>405885</td>\n",
       "      <td>Help Micky Recover</td>\n",
       "      <td>100</td>\n",
       "      <td>Micky was hit by a car and now has a broken jaw.</td>\n",
       "      <td>28</td>\n",
       "      <td>$650</td>\n",
       "      <td>USD</td>\n",
       "      <td>Animals</td>\n",
       "      <td>animals</td>\n",
       "      <td>100%</td>\n",
       "    </tr>\n",
       "    <tr>\n",
       "      <th>1</th>\n",
       "      <td>542014</td>\n",
       "      <td>BETTIS BOSTON TERRIER IN NEED OF A NUEROLOGIST</td>\n",
       "      <td>100</td>\n",
       "      <td>BETTIS IS IN NEED OF A NEUROLOGIST.  HE IS MY ...</td>\n",
       "      <td>20</td>\n",
       "      <td>$650</td>\n",
       "      <td>USD</td>\n",
       "      <td>Animals</td>\n",
       "      <td>animals</td>\n",
       "      <td>130%</td>\n",
       "    </tr>\n",
       "    <tr>\n",
       "      <th>2</th>\n",
       "      <td>422637</td>\n",
       "      <td>Help Frankie</td>\n",
       "      <td>80</td>\n",
       "      <td>My sweet boy had to have emergency surgery to ...</td>\n",
       "      <td>26</td>\n",
       "      <td>$643</td>\n",
       "      <td>USD</td>\n",
       "      <td>Animals</td>\n",
       "      <td>animals</td>\n",
       "      <td>80%</td>\n",
       "    </tr>\n",
       "    <tr>\n",
       "      <th>3</th>\n",
       "      <td>358194</td>\n",
       "      <td>Help Our Kitty, Jester</td>\n",
       "      <td>100</td>\n",
       "      <td>Jester, our \"California kitty\", has been diagn...</td>\n",
       "      <td>35</td>\n",
       "      <td>$640</td>\n",
       "      <td>USD</td>\n",
       "      <td>Animals</td>\n",
       "      <td>animals</td>\n",
       "      <td>128%</td>\n",
       "    </tr>\n",
       "    <tr>\n",
       "      <th>4</th>\n",
       "      <td>327879</td>\n",
       "      <td>Help Zhu Zhu Get Entropion Surgery</td>\n",
       "      <td>100</td>\n",
       "      <td>Zhu Zhu is a one year old pit bull that suffer...</td>\n",
       "      <td>20</td>\n",
       "      <td>$629</td>\n",
       "      <td>USD</td>\n",
       "      <td>Animals</td>\n",
       "      <td>animals</td>\n",
       "      <td>105%</td>\n",
       "    </tr>\n",
       "  </tbody>\n",
       "</table>\n",
       "</div>"
      ],
      "text/plain": [
       "       id                                           title  \\\n",
       "0  405885                              Help Micky Recover   \n",
       "1  542014  BETTIS BOSTON TERRIER IN NEED OF A NUEROLOGIST   \n",
       "2  422637                                    Help Frankie   \n",
       "3  358194                          Help Our Kitty, Jester   \n",
       "4  327879              Help Zhu Zhu Get Entropion Surgery   \n",
       "\n",
       "   nearest_five_percent                                            tagline  \\\n",
       "0                   100   Micky was hit by a car and now has a broken jaw.   \n",
       "1                   100  BETTIS IS IN NEED OF A NEUROLOGIST.  HE IS MY ...   \n",
       "2                    80  My sweet boy had to have emergency surgery to ...   \n",
       "3                   100  Jester, our \"California kitty\", has been diagn...   \n",
       "4                   100  Zhu Zhu is a one year old pit bull that suffer...   \n",
       "\n",
       "   cached_collected_pledges_count balance currency_code category_name  \\\n",
       "0                              28   $650            USD       Animals   \n",
       "1                              20   $650            USD       Animals   \n",
       "2                              26   $643            USD       Animals   \n",
       "3                              35   $640            USD       Animals   \n",
       "4                              20   $629            USD       Animals   \n",
       "\n",
       "  category_slug collected_percentage  \n",
       "0       animals                 100%  \n",
       "1       animals                 130%  \n",
       "2       animals                  80%  \n",
       "3       animals                 128%  \n",
       "4       animals                 105%  "
      ]
     },
     "execution_count": 58,
     "metadata": {},
     "output_type": "execute_result"
    }
   ],
   "source": [
    "usd = dataset[dataset[\"currency_code\"] == \"USD\"]\n",
    "usd.head()"
   ]
  },
  {
   "cell_type": "code",
   "execution_count": 59,
   "metadata": {},
   "outputs": [
    {
     "data": {
      "text/html": [
       "<div>\n",
       "<style scoped>\n",
       "    .dataframe tbody tr th:only-of-type {\n",
       "        vertical-align: middle;\n",
       "    }\n",
       "\n",
       "    .dataframe tbody tr th {\n",
       "        vertical-align: top;\n",
       "    }\n",
       "\n",
       "    .dataframe thead th {\n",
       "        text-align: right;\n",
       "    }\n",
       "</style>\n",
       "<table border=\"1\" class=\"dataframe\">\n",
       "  <thead>\n",
       "    <tr style=\"text-align: right;\">\n",
       "      <th></th>\n",
       "      <th>id</th>\n",
       "      <th>nearest_five_percent</th>\n",
       "      <th>cached_collected_pledges_count</th>\n",
       "    </tr>\n",
       "    <tr>\n",
       "      <th>category_name</th>\n",
       "      <th></th>\n",
       "      <th></th>\n",
       "      <th></th>\n",
       "    </tr>\n",
       "  </thead>\n",
       "  <tbody>\n",
       "    <tr>\n",
       "      <th>Animals</th>\n",
       "      <td>888721973</td>\n",
       "      <td>80208</td>\n",
       "      <td>118533</td>\n",
       "    </tr>\n",
       "    <tr>\n",
       "      <th>Art</th>\n",
       "      <td>1820934927</td>\n",
       "      <td>157354</td>\n",
       "      <td>154650</td>\n",
       "    </tr>\n",
       "    <tr>\n",
       "      <th>Comic</th>\n",
       "      <td>255248577</td>\n",
       "      <td>29133</td>\n",
       "      <td>40289</td>\n",
       "    </tr>\n",
       "    <tr>\n",
       "      <th>Community</th>\n",
       "      <td>4974023917</td>\n",
       "      <td>423288</td>\n",
       "      <td>594009</td>\n",
       "    </tr>\n",
       "    <tr>\n",
       "      <th>Dance</th>\n",
       "      <td>123733458</td>\n",
       "      <td>18095</td>\n",
       "      <td>6017</td>\n",
       "    </tr>\n",
       "    <tr>\n",
       "      <th>Design</th>\n",
       "      <td>257196857</td>\n",
       "      <td>21902</td>\n",
       "      <td>91154</td>\n",
       "    </tr>\n",
       "    <tr>\n",
       "      <th>Education</th>\n",
       "      <td>2281261356</td>\n",
       "      <td>160763</td>\n",
       "      <td>157950</td>\n",
       "    </tr>\n",
       "    <tr>\n",
       "      <th>Environment</th>\n",
       "      <td>565667613</td>\n",
       "      <td>25159</td>\n",
       "      <td>83712</td>\n",
       "    </tr>\n",
       "    <tr>\n",
       "      <th>Fashion</th>\n",
       "      <td>468609231</td>\n",
       "      <td>33824</td>\n",
       "      <td>69002</td>\n",
       "    </tr>\n",
       "    <tr>\n",
       "      <th>Film</th>\n",
       "      <td>4811453231</td>\n",
       "      <td>588078</td>\n",
       "      <td>702860</td>\n",
       "    </tr>\n",
       "    <tr>\n",
       "      <th>Food</th>\n",
       "      <td>572511300</td>\n",
       "      <td>53175</td>\n",
       "      <td>77958</td>\n",
       "    </tr>\n",
       "    <tr>\n",
       "      <th>Gaming</th>\n",
       "      <td>242130529</td>\n",
       "      <td>31080</td>\n",
       "      <td>83640</td>\n",
       "    </tr>\n",
       "    <tr>\n",
       "      <th>Health</th>\n",
       "      <td>755491294</td>\n",
       "      <td>132785</td>\n",
       "      <td>91836</td>\n",
       "    </tr>\n",
       "    <tr>\n",
       "      <th>Sports</th>\n",
       "      <td>831306</td>\n",
       "      <td>100</td>\n",
       "      <td>40</td>\n",
       "    </tr>\n",
       "  </tbody>\n",
       "</table>\n",
       "</div>"
      ],
      "text/plain": [
       "                       id  nearest_five_percent  \\\n",
       "category_name                                     \n",
       "Animals         888721973                 80208   \n",
       "Art            1820934927                157354   \n",
       "Comic           255248577                 29133   \n",
       "Community      4974023917                423288   \n",
       "Dance           123733458                 18095   \n",
       "Design          257196857                 21902   \n",
       "Education      2281261356                160763   \n",
       "Environment     565667613                 25159   \n",
       "Fashion         468609231                 33824   \n",
       "Film           4811453231                588078   \n",
       "Food            572511300                 53175   \n",
       "Gaming          242130529                 31080   \n",
       "Health          755491294                132785   \n",
       "Sports             831306                   100   \n",
       "\n",
       "               cached_collected_pledges_count  \n",
       "category_name                                  \n",
       "Animals                                118533  \n",
       "Art                                    154650  \n",
       "Comic                                   40289  \n",
       "Community                              594009  \n",
       "Dance                                    6017  \n",
       "Design                                  91154  \n",
       "Education                              157950  \n",
       "Environment                             83712  \n",
       "Fashion                                 69002  \n",
       "Film                                   702860  \n",
       "Food                                    77958  \n",
       "Gaming                                  83640  \n",
       "Health                                  91836  \n",
       "Sports                                     40  "
      ]
     },
     "execution_count": 59,
     "metadata": {},
     "output_type": "execute_result"
    }
   ],
   "source": [
    "usd.groupby('category_name').sum()"
   ]
  },
  {
   "cell_type": "markdown",
   "metadata": {},
   "source": [
    "#### Data Visualisation "
   ]
  },
  {
   "cell_type": "code",
   "execution_count": 60,
   "metadata": {},
   "outputs": [],
   "source": [
    "import matplotlib as plt\n",
    "%matplotlib inline"
   ]
  },
  {
   "cell_type": "code",
   "execution_count": 62,
   "metadata": {},
   "outputs": [
    {
     "data": {
      "text/plain": [
       "<matplotlib.axes._subplots.AxesSubplot at 0x11c6b7390>"
      ]
     },
     "execution_count": 62,
     "metadata": {},
     "output_type": "execute_result"
    },
    {
     "data": {
      "image/png": "[encoded data removed]",
      "text/plain": [
       "<Figure size 432x288 with 1 Axes>"
      ]
     },
     "metadata": {
      "needs_background": "light"
     },
     "output_type": "display_data"
    }
   ],
   "source": [
    "dataset['cached_collected_pledges_count'].plot.hist(bins = 10, range = (0,500))"
   ]
  },
  {
   "cell_type": "code",
   "execution_count": null,
   "metadata": {},
   "outputs": [],
   "source": []
  }
 ],
 "metadata": {
  "kernelspec": {
   "display_name": "Python 3",
   "language": "python",
   "name": "python3"
  },
  "language_info": {
   "codemirror_mode": {
    "name": "ipython",
    "version": 3
   },
   "file_extension": ".py",
   "mimetype": "text/x-python",
   "name": "python",
   "nbconvert_exporter": "python",
   "pygments_lexer": "ipython3",
   "version": "3.7.2"
  }
 },
 "nbformat": 4,
 "nbformat_minor": 2
}
